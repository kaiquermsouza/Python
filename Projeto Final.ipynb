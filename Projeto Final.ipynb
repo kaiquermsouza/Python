{
 "cells": [
  {
   "cell_type": "markdown",
   "id": "93c44b13",
   "metadata": {},
   "source": [
    "# Projeto Final: Automatização de Movimentação de Arquivos"
   ]
  },
  {
   "cell_type": "markdown",
   "id": "df8168fa",
   "metadata": {},
   "source": [
    "## Especificação"
   ]
  },
  {
   "cell_type": "markdown",
   "id": "c02f1ba1",
   "metadata": {},
   "source": [
    "\n",
    "Neste projeto, além de desenvolver um script Python que automatiza a tarefa de mover arquivos Excel processados para um diretório específico, vamos expandir a funcionalidade para criar um dicionário contendo informações adicionais sobre os arquivos. Este dicionário terá o nome do arquivo como chave e uma lista com data de criação e tamanho como valor.\n",
    "        "
   ]
  },
  {
   "cell_type": "markdown",
   "id": "1db462f4",
   "metadata": {},
   "source": [
    "## Implementação"
   ]
  },
  {
   "cell_type": "code",
   "execution_count": 1,
   "id": "cb9e61c8-8fa7-4677-920e-e065aa01ce09",
   "metadata": {},
   "outputs": [],
   "source": [
    "import os\n",
    "import shutil\n",
    "import time"
   ]
  },
  {
   "cell_type": "code",
   "execution_count": 2,
   "id": "3b5d975e-e86a-4c75-927d-f2ebb3b55bb4",
   "metadata": {},
   "outputs": [],
   "source": [
    "# Diretório de origem (de onde os arquivos serão verificados e movidos)\n",
    "diretorio_origem = \"./relatorios\""
   ]
  },
  {
   "cell_type": "code",
   "execution_count": 3,
   "id": "fe316507-5ba3-4053-ad17-4a46ff82c53a",
   "metadata": {},
   "outputs": [],
   "source": [
    "# Diretório de destino (para onde os arquivos serão movidos)\n",
    "diretorio_destino = \"./relatorios processados\""
   ]
  },
  {
   "cell_type": "code",
   "execution_count": 4,
   "id": "12e846a2-e4af-4da8-ad84-ffd4182d334e",
   "metadata": {},
   "outputs": [],
   "source": [
    "# Verificando se o diretório de destino existe, senão, cria\n",
    "if not os.path.exists(diretorio_destino):\n",
    "    os.mkdir(diretorio_destino)"
   ]
  },
  {
   "cell_type": "code",
   "execution_count": 5,
   "id": "eb7f965b-baaa-4662-8ed1-842a01dc7988",
   "metadata": {},
   "outputs": [],
   "source": [
    "# Listando todos os arquivos do diretório de origem\n",
    "arquivos = os.listdir(diretorio_origem)"
   ]
  },
  {
   "cell_type": "code",
   "execution_count": 6,
   "id": "735774f2-b073-44be-a11c-8bf90ae16a14",
   "metadata": {},
   "outputs": [],
   "source": [
    "# Dicionário para armazenar informações sobre os arquivos\n",
    "info_arquivos = {}"
   ]
  },
  {
   "cell_type": "code",
   "execution_count": 7,
   "id": "b522a4e7-ba42-44ae-a74c-8606ed37c3fd",
   "metadata": {},
   "outputs": [
    {
     "data": {
      "text/plain": [
       "['relatorio_0_processado.xlsx',\n",
       " 'relatorio_10_processado.xlsx',\n",
       " 'relatorio_11_processado.xlsx',\n",
       " 'relatorio_12_processado.xlsx',\n",
       " 'relatorio_1_processado.xlsx',\n",
       " 'relatorio_2_processado.xlsx',\n",
       " 'relatorio_3_processado.xlsx',\n",
       " 'relatorio_4_processado.xlsx',\n",
       " 'relatorio_5_processado.xlsx',\n",
       " 'relatorio_6_processado.xlsx',\n",
       " 'relatorio_7_processado.xlsx',\n",
       " 'relatorio_8_processado.xlsx',\n",
       " 'relatorio_9_processado.xlsx']"
      ]
     },
     "execution_count": 7,
     "metadata": {},
     "output_type": "execute_result"
    }
   ],
   "source": [
    "arquivos_processados = [arquivo for arquivo in arquivos if arquivo.endswith('_processado.xlsx')]\n",
    "\n",
    "arquivos_processados"
   ]
  },
  {
   "cell_type": "code",
   "execution_count": 8,
   "id": "f6b5e165-47e2-4845-aa76-6d10ca322b1a",
   "metadata": {},
   "outputs": [
    {
     "name": "stdout",
     "output_type": "stream",
     "text": [
      "Arquivo ./relatorios\\relatorio_0_processado.xlsx movido para ./relatorios processados\\relatorio_0_processado.xlsx\n",
      "Arquivo ./relatorios\\relatorio_10_processado.xlsx movido para ./relatorios processados\\relatorio_10_processado.xlsx\n",
      "Arquivo ./relatorios\\relatorio_11_processado.xlsx movido para ./relatorios processados\\relatorio_11_processado.xlsx\n",
      "Arquivo ./relatorios\\relatorio_12_processado.xlsx movido para ./relatorios processados\\relatorio_12_processado.xlsx\n",
      "Arquivo ./relatorios\\relatorio_1_processado.xlsx movido para ./relatorios processados\\relatorio_1_processado.xlsx\n",
      "Arquivo ./relatorios\\relatorio_2_processado.xlsx movido para ./relatorios processados\\relatorio_2_processado.xlsx\n",
      "Arquivo ./relatorios\\relatorio_3_processado.xlsx movido para ./relatorios processados\\relatorio_3_processado.xlsx\n",
      "Arquivo ./relatorios\\relatorio_4_processado.xlsx movido para ./relatorios processados\\relatorio_4_processado.xlsx\n",
      "Arquivo ./relatorios\\relatorio_5_processado.xlsx movido para ./relatorios processados\\relatorio_5_processado.xlsx\n",
      "Arquivo ./relatorios\\relatorio_6_processado.xlsx movido para ./relatorios processados\\relatorio_6_processado.xlsx\n",
      "Arquivo ./relatorios\\relatorio_7_processado.xlsx movido para ./relatorios processados\\relatorio_7_processado.xlsx\n",
      "Arquivo ./relatorios\\relatorio_8_processado.xlsx movido para ./relatorios processados\\relatorio_8_processado.xlsx\n",
      "Arquivo ./relatorios\\relatorio_9_processado.xlsx movido para ./relatorios processados\\relatorio_9_processado.xlsx\n"
     ]
    }
   ],
   "source": [
    "for arquivo_processado in arquivos_processados:\n",
    "    caminho_completo_origem = os.path.join(diretorio_origem, arquivo_processado)\n",
    "    caminho_completo_destino = os.path.join(diretorio_destino, arquivo_processado)\n",
    "\n",
    "    shutil.move(caminho_completo_origem, caminho_completo_destino)\n",
    "\n",
    "    print(f'Arquivo {caminho_completo_origem} movido para {caminho_completo_destino}')"
   ]
  },
  {
   "cell_type": "code",
   "execution_count": 9,
   "id": "bb650c8c-e3a7-432d-b989-d88bb1fd96ed",
   "metadata": {},
   "outputs": [
    {
     "data": {
      "text/plain": [
       "{'relatorio_0_processado.xlsx': ['Sun Oct 22 19:16:27 2023', 6280],\n",
       " 'relatorio_10_processado.xlsx': ['Sun Oct 22 19:16:27 2023', 6194],\n",
       " 'relatorio_11_processado.xlsx': ['Sun Oct 22 19:16:27 2023', 5908],\n",
       " 'relatorio_12_processado.xlsx': ['Sun Oct 22 19:16:27 2023', 6291],\n",
       " 'relatorio_1_processado.xlsx': ['Sun Oct 22 19:16:27 2023', 6112],\n",
       " 'relatorio_2_processado.xlsx': ['Sun Oct 22 19:16:27 2023', 5780],\n",
       " 'relatorio_3_processado.xlsx': ['Sun Oct 22 19:16:27 2023', 6221],\n",
       " 'relatorio_4_processado.xlsx': ['Sun Oct 22 19:16:27 2023', 6433],\n",
       " 'relatorio_5_processado.xlsx': ['Sun Oct 22 19:16:27 2023', 5876],\n",
       " 'relatorio_6_processado.xlsx': ['Sun Oct 22 19:16:27 2023', 6640],\n",
       " 'relatorio_7_processado.xlsx': ['Sun Oct 22 19:16:27 2023', 6104],\n",
       " 'relatorio_8_processado.xlsx': ['Sun Oct 22 19:16:27 2023', 5877],\n",
       " 'relatorio_9_processado.xlsx': ['Sun Oct 22 19:16:27 2023', 5759]}"
      ]
     },
     "execution_count": 9,
     "metadata": {},
     "output_type": "execute_result"
    }
   ],
   "source": [
    "# Vamos incrementar esse script, apresentando a data de criação de cada arquivo\n",
    "for arquivo in arquivos_processados:\n",
    "    caminho_completo = os.path.join(diretorio_destino, arquivo)\n",
    "    \n",
    "    # Obtendo informações sobre o arquivo\n",
    "    tamanho = os.path.getsize(caminho_completo)\n",
    "    data_criacao = time.ctime(os.path.getctime(caminho_completo))\n",
    "    \n",
    "    # Adicionando informações no dicionário\n",
    "    info_arquivos[arquivo] = [data_criacao, tamanho]\n",
    "\n",
    "info_arquivos"
   ]
  },
  {
   "cell_type": "code",
   "execution_count": 10,
   "id": "456cd3de-8df1-4f44-8b47-4aa5ee236d9a",
   "metadata": {},
   "outputs": [
    {
     "data": {
      "text/plain": [
       "['Sun Oct 22 19:16:27 2023', 6280]"
      ]
     },
     "execution_count": 10,
     "metadata": {},
     "output_type": "execute_result"
    }
   ],
   "source": [
    "info_arquivos['relatorio_0_processado.xlsx']"
   ]
  },
  {
   "cell_type": "code",
   "execution_count": 12,
   "id": "4077fb28-58ea-437d-952d-fff1f67c7c43",
   "metadata": {},
   "outputs": [
    {
     "name": "stdout",
     "output_type": "stream",
     "text": [
      "Quantidade de arquivos movidos: 13\n"
     ]
    }
   ],
   "source": [
    "print(f\"Quantidade de arquivos movidos: {len(info_arquivos)}\")"
   ]
  },
  {
   "cell_type": "code",
   "execution_count": null,
   "id": "56f2f946-16fe-47dc-ab40-0504000cc0ae",
   "metadata": {},
   "outputs": [],
   "source": []
  }
 ],
 "metadata": {
  "kernelspec": {
   "display_name": "Python 3 (ipykernel)",
   "language": "python",
   "name": "python3"
  },
  "language_info": {
   "codemirror_mode": {
    "name": "ipython",
    "version": 3
   },
   "file_extension": ".py",
   "mimetype": "text/x-python",
   "name": "python",
   "nbconvert_exporter": "python",
   "pygments_lexer": "ipython3",
   "version": "3.9.13"
  }
 },
 "nbformat": 4,
 "nbformat_minor": 5
}
